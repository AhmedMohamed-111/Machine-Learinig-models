{
 "cells": [
  {
   "cell_type": "markdown",
   "id": "4ca6df82",
   "metadata": {},
   "source": [
    "# Salary Data Based on Country and Race"
   ]
  },
  {
   "cell_type": "markdown",
   "id": "10f1579c",
   "metadata": {},
   "source": [
    "The dataset consists of a comprehensive collection of salary and demographic information with additional details on years of experience. It offers a valuable resource for studying the relationship between income and various socio-demographic factors. The demographic attributes include age, gender, education, country, and race, providing a diverse range of variables for analysis."
   ]
  },
  {
   "cell_type": "code",
   "execution_count": 1,
   "id": "d7a222a7",
   "metadata": {},
   "outputs": [],
   "source": [
    "import numpy as np\n",
    "import pandas as pd\n",
    "import matplotlib.pyplot as plt\n",
    "import seaborn as sns"
   ]
  },
  {
   "cell_type": "markdown",
   "id": "f5a97495",
   "metadata": {},
   "source": [
    "## Cleaning"
   ]
  },
  {
   "cell_type": "markdown",
   "id": "6d61241d",
   "metadata": {},
   "source": [
    "**Read the dataset Salary**"
   ]
  },
  {
   "cell_type": "code",
   "execution_count": 2,
   "id": "302664f1",
   "metadata": {},
   "outputs": [],
   "source": [
    "dataset = pd.read_csv(\"Salary_Data_Based_country_and_race.csv\")"
   ]
  },
  {
   "cell_type": "markdown",
   "id": "ae93102e",
   "metadata": {},
   "source": [
    "**Display the dataset**"
   ]
  },
  {
   "cell_type": "code",
   "execution_count": 3,
   "id": "925137c7",
   "metadata": {},
   "outputs": [
    {
     "data": {
      "text/html": [
       "<div>\n",
       "<style scoped>\n",
       "    .dataframe tbody tr th:only-of-type {\n",
       "        vertical-align: middle;\n",
       "    }\n",
       "\n",
       "    .dataframe tbody tr th {\n",
       "        vertical-align: top;\n",
       "    }\n",
       "\n",
       "    .dataframe thead th {\n",
       "        text-align: right;\n",
       "    }\n",
       "</style>\n",
       "<table border=\"1\" class=\"dataframe\">\n",
       "  <thead>\n",
       "    <tr style=\"text-align: right;\">\n",
       "      <th></th>\n",
       "      <th>Unnamed: 0</th>\n",
       "      <th>Age</th>\n",
       "      <th>Gender</th>\n",
       "      <th>Education Level</th>\n",
       "      <th>Job Title</th>\n",
       "      <th>Years of Experience</th>\n",
       "      <th>Salary</th>\n",
       "      <th>Country</th>\n",
       "      <th>Race</th>\n",
       "    </tr>\n",
       "  </thead>\n",
       "  <tbody>\n",
       "    <tr>\n",
       "      <th>0</th>\n",
       "      <td>0</td>\n",
       "      <td>32.0</td>\n",
       "      <td>Male</td>\n",
       "      <td>Bachelor's</td>\n",
       "      <td>Software Engineer</td>\n",
       "      <td>5.0</td>\n",
       "      <td>90000.0</td>\n",
       "      <td>UK</td>\n",
       "      <td>White</td>\n",
       "    </tr>\n",
       "    <tr>\n",
       "      <th>1</th>\n",
       "      <td>1</td>\n",
       "      <td>28.0</td>\n",
       "      <td>Female</td>\n",
       "      <td>Master's</td>\n",
       "      <td>Data Analyst</td>\n",
       "      <td>3.0</td>\n",
       "      <td>65000.0</td>\n",
       "      <td>USA</td>\n",
       "      <td>Hispanic</td>\n",
       "    </tr>\n",
       "    <tr>\n",
       "      <th>2</th>\n",
       "      <td>2</td>\n",
       "      <td>45.0</td>\n",
       "      <td>Male</td>\n",
       "      <td>PhD</td>\n",
       "      <td>Senior Manager</td>\n",
       "      <td>15.0</td>\n",
       "      <td>150000.0</td>\n",
       "      <td>Canada</td>\n",
       "      <td>White</td>\n",
       "    </tr>\n",
       "    <tr>\n",
       "      <th>3</th>\n",
       "      <td>3</td>\n",
       "      <td>36.0</td>\n",
       "      <td>Female</td>\n",
       "      <td>Bachelor's</td>\n",
       "      <td>Sales Associate</td>\n",
       "      <td>7.0</td>\n",
       "      <td>60000.0</td>\n",
       "      <td>USA</td>\n",
       "      <td>Hispanic</td>\n",
       "    </tr>\n",
       "    <tr>\n",
       "      <th>4</th>\n",
       "      <td>4</td>\n",
       "      <td>52.0</td>\n",
       "      <td>Male</td>\n",
       "      <td>Master's</td>\n",
       "      <td>Director</td>\n",
       "      <td>20.0</td>\n",
       "      <td>200000.0</td>\n",
       "      <td>USA</td>\n",
       "      <td>Asian</td>\n",
       "    </tr>\n",
       "  </tbody>\n",
       "</table>\n",
       "</div>"
      ],
      "text/plain": [
       "   Unnamed: 0   Age  Gender Education Level          Job Title  \\\n",
       "0           0  32.0    Male      Bachelor's  Software Engineer   \n",
       "1           1  28.0  Female        Master's       Data Analyst   \n",
       "2           2  45.0    Male             PhD     Senior Manager   \n",
       "3           3  36.0  Female      Bachelor's    Sales Associate   \n",
       "4           4  52.0    Male        Master's           Director   \n",
       "\n",
       "   Years of Experience    Salary Country      Race  \n",
       "0                  5.0   90000.0      UK     White  \n",
       "1                  3.0   65000.0     USA  Hispanic  \n",
       "2                 15.0  150000.0  Canada     White  \n",
       "3                  7.0   60000.0     USA  Hispanic  \n",
       "4                 20.0  200000.0     USA     Asian  "
      ]
     },
     "execution_count": 3,
     "metadata": {},
     "output_type": "execute_result"
    }
   ],
   "source": [
    "dataset.head()"
   ]
  },
  {
   "cell_type": "markdown",
   "id": "5d1027f0-dafc-4be9-9786-26fadb974417",
   "metadata": {},
   "source": [
    "**what is the information of the data?**"
   ]
  },
  {
   "cell_type": "code",
   "execution_count": 4,
   "id": "518447c3-e5c8-4fba-8115-c4a9fb94ff45",
   "metadata": {},
   "outputs": [
    {
     "name": "stdout",
     "output_type": "stream",
     "text": [
      "<class 'pandas.core.frame.DataFrame'>\n",
      "RangeIndex: 6704 entries, 0 to 6703\n",
      "Data columns (total 9 columns):\n",
      " #   Column               Non-Null Count  Dtype  \n",
      "---  ------               --------------  -----  \n",
      " 0   Unnamed: 0           6704 non-null   int64  \n",
      " 1   Age                  6702 non-null   float64\n",
      " 2   Gender               6702 non-null   object \n",
      " 3   Education Level      6701 non-null   object \n",
      " 4   Job Title            6702 non-null   object \n",
      " 5   Years of Experience  6701 non-null   float64\n",
      " 6   Salary               6699 non-null   float64\n",
      " 7   Country              6704 non-null   object \n",
      " 8   Race                 6704 non-null   object \n",
      "dtypes: float64(3), int64(1), object(5)\n",
      "memory usage: 471.5+ KB\n"
     ]
    }
   ],
   "source": [
    "dataset.info()"
   ]
  },
  {
   "cell_type": "markdown",
   "id": "c1de4188-85ab-4c4b-86db-f9ca38846161",
   "metadata": {},
   "source": [
    "**if the the age column have a null value fill it by a suitable value**"
   ]
  },
  {
   "cell_type": "code",
   "execution_count": 5,
   "id": "3bcfd48e-5cec-4e70-b668-c8fcf57b0fcb",
   "metadata": {},
   "outputs": [
    {
     "data": {
      "text/plain": [
       "2"
      ]
     },
     "execution_count": 5,
     "metadata": {},
     "output_type": "execute_result"
    }
   ],
   "source": [
    "dataset['Age'].isnull().sum()"
   ]
  },
  {
   "cell_type": "code",
   "execution_count": 6,
   "id": "ad2bf307-f788-4390-ad7c-1e7f4e2a0b4d",
   "metadata": {},
   "outputs": [
    {
     "data": {
      "text/html": [
       "<div>\n",
       "<style scoped>\n",
       "    .dataframe tbody tr th:only-of-type {\n",
       "        vertical-align: middle;\n",
       "    }\n",
       "\n",
       "    .dataframe tbody tr th {\n",
       "        vertical-align: top;\n",
       "    }\n",
       "\n",
       "    .dataframe thead th {\n",
       "        text-align: right;\n",
       "    }\n",
       "</style>\n",
       "<table border=\"1\" class=\"dataframe\">\n",
       "  <thead>\n",
       "    <tr style=\"text-align: right;\">\n",
       "      <th></th>\n",
       "      <th>Unnamed: 0</th>\n",
       "      <th>Age</th>\n",
       "      <th>Years of Experience</th>\n",
       "      <th>Salary</th>\n",
       "    </tr>\n",
       "  </thead>\n",
       "  <tbody>\n",
       "    <tr>\n",
       "      <th>count</th>\n",
       "      <td>6704.000000</td>\n",
       "      <td>6702.000000</td>\n",
       "      <td>6701.000000</td>\n",
       "      <td>6699.000000</td>\n",
       "    </tr>\n",
       "    <tr>\n",
       "      <th>mean</th>\n",
       "      <td>3351.500000</td>\n",
       "      <td>33.620859</td>\n",
       "      <td>8.094687</td>\n",
       "      <td>115326.964771</td>\n",
       "    </tr>\n",
       "    <tr>\n",
       "      <th>std</th>\n",
       "      <td>1935.422435</td>\n",
       "      <td>7.614633</td>\n",
       "      <td>6.059003</td>\n",
       "      <td>52786.183911</td>\n",
       "    </tr>\n",
       "    <tr>\n",
       "      <th>min</th>\n",
       "      <td>0.000000</td>\n",
       "      <td>21.000000</td>\n",
       "      <td>0.000000</td>\n",
       "      <td>350.000000</td>\n",
       "    </tr>\n",
       "    <tr>\n",
       "      <th>25%</th>\n",
       "      <td>1675.750000</td>\n",
       "      <td>28.000000</td>\n",
       "      <td>3.000000</td>\n",
       "      <td>70000.000000</td>\n",
       "    </tr>\n",
       "    <tr>\n",
       "      <th>50%</th>\n",
       "      <td>3351.500000</td>\n",
       "      <td>32.000000</td>\n",
       "      <td>7.000000</td>\n",
       "      <td>115000.000000</td>\n",
       "    </tr>\n",
       "    <tr>\n",
       "      <th>75%</th>\n",
       "      <td>5027.250000</td>\n",
       "      <td>38.000000</td>\n",
       "      <td>12.000000</td>\n",
       "      <td>160000.000000</td>\n",
       "    </tr>\n",
       "    <tr>\n",
       "      <th>max</th>\n",
       "      <td>6703.000000</td>\n",
       "      <td>62.000000</td>\n",
       "      <td>34.000000</td>\n",
       "      <td>250000.000000</td>\n",
       "    </tr>\n",
       "  </tbody>\n",
       "</table>\n",
       "</div>"
      ],
      "text/plain": [
       "        Unnamed: 0          Age  Years of Experience         Salary\n",
       "count  6704.000000  6702.000000          6701.000000    6699.000000\n",
       "mean   3351.500000    33.620859             8.094687  115326.964771\n",
       "std    1935.422435     7.614633             6.059003   52786.183911\n",
       "min       0.000000    21.000000             0.000000     350.000000\n",
       "25%    1675.750000    28.000000             3.000000   70000.000000\n",
       "50%    3351.500000    32.000000             7.000000  115000.000000\n",
       "75%    5027.250000    38.000000            12.000000  160000.000000\n",
       "max    6703.000000    62.000000            34.000000  250000.000000"
      ]
     },
     "execution_count": 6,
     "metadata": {},
     "output_type": "execute_result"
    }
   ],
   "source": [
    "dataset.describe()"
   ]
  },
  {
   "cell_type": "code",
   "execution_count": 7,
   "id": "d53d3a72-3bf2-4149-9946-df3d0cd45962",
   "metadata": {},
   "outputs": [],
   "source": [
    "dataset['Age'][:1675].fillna(28 ,inplace = True)\n",
    "dataset['Age'][1676:3351].fillna(32,inplace = True)\n",
    "dataset['Age'][3552:].fillna(38 , inplace= True)"
   ]
  },
  {
   "cell_type": "code",
   "execution_count": 8,
   "id": "a277ccae-8a6d-423d-ac82-76213608e8ba",
   "metadata": {},
   "outputs": [
    {
     "data": {
      "text/plain": [
       "0"
      ]
     },
     "execution_count": 8,
     "metadata": {},
     "output_type": "execute_result"
    }
   ],
   "source": [
    "dataset['Age'].isnull().sum()"
   ]
  },
  {
   "cell_type": "markdown",
   "id": "dfa62c61-79b3-485d-a39c-5aeb55146164",
   "metadata": {},
   "source": [
    "**if the the Years of Experience column have a null value fill it by a suitable value**"
   ]
  },
  {
   "cell_type": "code",
   "execution_count": 9,
   "id": "d09567fa-0336-47ae-8742-7cde536840cf",
   "metadata": {},
   "outputs": [
    {
     "data": {
      "text/plain": [
       "3"
      ]
     },
     "execution_count": 9,
     "metadata": {},
     "output_type": "execute_result"
    }
   ],
   "source": [
    "dataset['Years of Experience'].isnull().sum()"
   ]
  },
  {
   "cell_type": "code",
   "execution_count": 10,
   "id": "7906b6c4-a206-41f5-929a-9de96fecd3e1",
   "metadata": {},
   "outputs": [],
   "source": [
    "dataset['Years of Experience'][:1675].fillna(3 ,inplace = True)\n",
    "dataset['Years of Experience'][1676:3351].fillna(7,inplace = True)\n",
    "dataset['Years of Experience'][3552:].fillna(12 , inplace= True)"
   ]
  },
  {
   "cell_type": "code",
   "execution_count": 11,
   "id": "9b240a51-f729-49d9-a781-b53bbf5261f4",
   "metadata": {},
   "outputs": [
    {
     "data": {
      "text/plain": [
       "0"
      ]
     },
     "execution_count": 11,
     "metadata": {},
     "output_type": "execute_result"
    }
   ],
   "source": [
    "dataset['Age'].isnull().sum()"
   ]
  },
  {
   "cell_type": "markdown",
   "id": "1123a06d-5c19-43b7-a34d-d322428e25b8",
   "metadata": {},
   "source": [
    "**if the the Salary column have a null value fill it by a suitable value**"
   ]
  },
  {
   "cell_type": "code",
   "execution_count": 12,
   "id": "91e4976a-20b3-4614-a3cf-ea075e9c3778",
   "metadata": {},
   "outputs": [
    {
     "data": {
      "text/plain": [
       "5"
      ]
     },
     "execution_count": 12,
     "metadata": {},
     "output_type": "execute_result"
    }
   ],
   "source": [
    "dataset['Salary'].isnull().sum()"
   ]
  },
  {
   "cell_type": "code",
   "execution_count": 13,
   "id": "dddea371-b567-421d-bb00-0a844b2986da",
   "metadata": {},
   "outputs": [],
   "source": [
    "dataset['Salary'][:1675].fillna(70000.000000 ,inplace = True)\n",
    "dataset['Salary'][1676:3351].fillna(115000.000000,inplace = True)\n",
    "dataset['Salary'][3552:].fillna(160000.000000, inplace= True)"
   ]
  },
  {
   "cell_type": "code",
   "execution_count": 14,
   "id": "033a4253-9791-416f-8be8-c593e243d660",
   "metadata": {},
   "outputs": [
    {
     "data": {
      "text/plain": [
       "0"
      ]
     },
     "execution_count": 14,
     "metadata": {},
     "output_type": "execute_result"
    }
   ],
   "source": [
    "dataset['Salary'].isnull().sum()"
   ]
  },
  {
   "cell_type": "markdown",
   "id": "4d615310-3344-42b7-a6c0-3f9bafb9da5c",
   "metadata": {},
   "source": [
    "**change the value of gender column by integer value and then change the datatype of the column and fill nulls values**"
   ]
  },
  {
   "cell_type": "code",
   "execution_count": 15,
   "id": "87b22467-8f20-4b96-8081-490cf6b9ddb5",
   "metadata": {},
   "outputs": [
    {
     "data": {
      "text/html": [
       "<div>\n",
       "<style scoped>\n",
       "    .dataframe tbody tr th:only-of-type {\n",
       "        vertical-align: middle;\n",
       "    }\n",
       "\n",
       "    .dataframe tbody tr th {\n",
       "        vertical-align: top;\n",
       "    }\n",
       "\n",
       "    .dataframe thead th {\n",
       "        text-align: right;\n",
       "    }\n",
       "</style>\n",
       "<table border=\"1\" class=\"dataframe\">\n",
       "  <thead>\n",
       "    <tr style=\"text-align: right;\">\n",
       "      <th></th>\n",
       "      <th>Unnamed: 0</th>\n",
       "      <th>Age</th>\n",
       "      <th>Gender</th>\n",
       "      <th>Education Level</th>\n",
       "      <th>Job Title</th>\n",
       "      <th>Years of Experience</th>\n",
       "      <th>Salary</th>\n",
       "      <th>Country</th>\n",
       "      <th>Race</th>\n",
       "    </tr>\n",
       "  </thead>\n",
       "  <tbody>\n",
       "    <tr>\n",
       "      <th>0</th>\n",
       "      <td>0</td>\n",
       "      <td>32.0</td>\n",
       "      <td>0</td>\n",
       "      <td>Bachelor's</td>\n",
       "      <td>Software Engineer</td>\n",
       "      <td>5.0</td>\n",
       "      <td>90000.0</td>\n",
       "      <td>UK</td>\n",
       "      <td>White</td>\n",
       "    </tr>\n",
       "    <tr>\n",
       "      <th>1</th>\n",
       "      <td>1</td>\n",
       "      <td>28.0</td>\n",
       "      <td>1</td>\n",
       "      <td>Master's</td>\n",
       "      <td>Data Analyst</td>\n",
       "      <td>3.0</td>\n",
       "      <td>65000.0</td>\n",
       "      <td>USA</td>\n",
       "      <td>Hispanic</td>\n",
       "    </tr>\n",
       "    <tr>\n",
       "      <th>2</th>\n",
       "      <td>2</td>\n",
       "      <td>45.0</td>\n",
       "      <td>0</td>\n",
       "      <td>PhD</td>\n",
       "      <td>Senior Manager</td>\n",
       "      <td>15.0</td>\n",
       "      <td>150000.0</td>\n",
       "      <td>Canada</td>\n",
       "      <td>White</td>\n",
       "    </tr>\n",
       "    <tr>\n",
       "      <th>3</th>\n",
       "      <td>3</td>\n",
       "      <td>36.0</td>\n",
       "      <td>1</td>\n",
       "      <td>Bachelor's</td>\n",
       "      <td>Sales Associate</td>\n",
       "      <td>7.0</td>\n",
       "      <td>60000.0</td>\n",
       "      <td>USA</td>\n",
       "      <td>Hispanic</td>\n",
       "    </tr>\n",
       "    <tr>\n",
       "      <th>4</th>\n",
       "      <td>4</td>\n",
       "      <td>52.0</td>\n",
       "      <td>0</td>\n",
       "      <td>Master's</td>\n",
       "      <td>Director</td>\n",
       "      <td>20.0</td>\n",
       "      <td>200000.0</td>\n",
       "      <td>USA</td>\n",
       "      <td>Asian</td>\n",
       "    </tr>\n",
       "  </tbody>\n",
       "</table>\n",
       "</div>"
      ],
      "text/plain": [
       "   Unnamed: 0   Age Gender Education Level          Job Title  \\\n",
       "0           0  32.0      0      Bachelor's  Software Engineer   \n",
       "1           1  28.0      1        Master's       Data Analyst   \n",
       "2           2  45.0      0             PhD     Senior Manager   \n",
       "3           3  36.0      1      Bachelor's    Sales Associate   \n",
       "4           4  52.0      0        Master's           Director   \n",
       "\n",
       "   Years of Experience    Salary Country      Race  \n",
       "0                  5.0   90000.0      UK     White  \n",
       "1                  3.0   65000.0     USA  Hispanic  \n",
       "2                 15.0  150000.0  Canada     White  \n",
       "3                  7.0   60000.0     USA  Hispanic  \n",
       "4                 20.0  200000.0     USA     Asian  "
      ]
     },
     "execution_count": 15,
     "metadata": {},
     "output_type": "execute_result"
    }
   ],
   "source": [
    "dataset.loc[dataset['Gender'] == 'Male','Gender'] = 0\n",
    "dataset.loc[dataset['Gender'] == 'Female','Gender'] = 1\n",
    "dataset.head()"
   ]
  },
  {
   "cell_type": "code",
   "execution_count": 16,
   "id": "4aea6864-ec45-4084-841f-4cc6b5803849",
   "metadata": {},
   "outputs": [
    {
     "data": {
      "text/plain": [
       "dtype('float64')"
      ]
     },
     "execution_count": 16,
     "metadata": {},
     "output_type": "execute_result"
    }
   ],
   "source": [
    "dataset['Gender'] = pd.to_numeric(dataset['Gender'],errors = 'coerce')\n",
    "dataset['Gender'].dtypes"
   ]
  },
  {
   "cell_type": "code",
   "execution_count": 17,
   "id": "2361388d-589a-4298-a0f8-1c4ef3a0316e",
   "metadata": {},
   "outputs": [
    {
     "data": {
      "text/html": [
       "<div>\n",
       "<style scoped>\n",
       "    .dataframe tbody tr th:only-of-type {\n",
       "        vertical-align: middle;\n",
       "    }\n",
       "\n",
       "    .dataframe tbody tr th {\n",
       "        vertical-align: top;\n",
       "    }\n",
       "\n",
       "    .dataframe thead th {\n",
       "        text-align: right;\n",
       "    }\n",
       "</style>\n",
       "<table border=\"1\" class=\"dataframe\">\n",
       "  <thead>\n",
       "    <tr style=\"text-align: right;\">\n",
       "      <th></th>\n",
       "      <th>Unnamed: 0</th>\n",
       "      <th>Age</th>\n",
       "      <th>Gender</th>\n",
       "      <th>Years of Experience</th>\n",
       "      <th>Salary</th>\n",
       "    </tr>\n",
       "  </thead>\n",
       "  <tbody>\n",
       "    <tr>\n",
       "      <th>count</th>\n",
       "      <td>6704.000000</td>\n",
       "      <td>6704.000000</td>\n",
       "      <td>6688.000000</td>\n",
       "      <td>6704.000000</td>\n",
       "      <td>6704.000000</td>\n",
       "    </tr>\n",
       "    <tr>\n",
       "      <th>mean</th>\n",
       "      <td>3351.500000</td>\n",
       "      <td>33.619183</td>\n",
       "      <td>0.450658</td>\n",
       "      <td>8.093750</td>\n",
       "      <td>115326.720913</td>\n",
       "    </tr>\n",
       "    <tr>\n",
       "      <th>std</th>\n",
       "      <td>1935.422435</td>\n",
       "      <td>7.614115</td>\n",
       "      <td>0.497597</td>\n",
       "      <td>6.058474</td>\n",
       "      <td>52777.942811</td>\n",
       "    </tr>\n",
       "    <tr>\n",
       "      <th>min</th>\n",
       "      <td>0.000000</td>\n",
       "      <td>21.000000</td>\n",
       "      <td>0.000000</td>\n",
       "      <td>0.000000</td>\n",
       "      <td>350.000000</td>\n",
       "    </tr>\n",
       "    <tr>\n",
       "      <th>25%</th>\n",
       "      <td>1675.750000</td>\n",
       "      <td>28.000000</td>\n",
       "      <td>0.000000</td>\n",
       "      <td>3.000000</td>\n",
       "      <td>70000.000000</td>\n",
       "    </tr>\n",
       "    <tr>\n",
       "      <th>50%</th>\n",
       "      <td>3351.500000</td>\n",
       "      <td>32.000000</td>\n",
       "      <td>0.000000</td>\n",
       "      <td>7.000000</td>\n",
       "      <td>115000.000000</td>\n",
       "    </tr>\n",
       "    <tr>\n",
       "      <th>75%</th>\n",
       "      <td>5027.250000</td>\n",
       "      <td>38.000000</td>\n",
       "      <td>1.000000</td>\n",
       "      <td>12.000000</td>\n",
       "      <td>160000.000000</td>\n",
       "    </tr>\n",
       "    <tr>\n",
       "      <th>max</th>\n",
       "      <td>6703.000000</td>\n",
       "      <td>62.000000</td>\n",
       "      <td>1.000000</td>\n",
       "      <td>34.000000</td>\n",
       "      <td>250000.000000</td>\n",
       "    </tr>\n",
       "  </tbody>\n",
       "</table>\n",
       "</div>"
      ],
      "text/plain": [
       "        Unnamed: 0          Age       Gender  Years of Experience  \\\n",
       "count  6704.000000  6704.000000  6688.000000          6704.000000   \n",
       "mean   3351.500000    33.619183     0.450658             8.093750   \n",
       "std    1935.422435     7.614115     0.497597             6.058474   \n",
       "min       0.000000    21.000000     0.000000             0.000000   \n",
       "25%    1675.750000    28.000000     0.000000             3.000000   \n",
       "50%    3351.500000    32.000000     0.000000             7.000000   \n",
       "75%    5027.250000    38.000000     1.000000            12.000000   \n",
       "max    6703.000000    62.000000     1.000000            34.000000   \n",
       "\n",
       "              Salary  \n",
       "count    6704.000000  \n",
       "mean   115326.720913  \n",
       "std     52777.942811  \n",
       "min       350.000000  \n",
       "25%     70000.000000  \n",
       "50%    115000.000000  \n",
       "75%    160000.000000  \n",
       "max    250000.000000  "
      ]
     },
     "execution_count": 17,
     "metadata": {},
     "output_type": "execute_result"
    }
   ],
   "source": [
    "dataset.describe()"
   ]
  },
  {
   "cell_type": "code",
   "execution_count": 18,
   "id": "adf8425c-d3c8-4b7b-8fca-44e03597b3fe",
   "metadata": {},
   "outputs": [
    {
     "data": {
      "text/plain": [
       "0"
      ]
     },
     "execution_count": 18,
     "metadata": {},
     "output_type": "execute_result"
    }
   ],
   "source": [
    "dataset['Gender'][:1675].fillna(0,inplace=True)\n",
    "dataset['Gender'][1676:3351].fillna(0,inplace=True)\n",
    "dataset['Gender'][3352:6703].fillna(1,inplace=True)\n",
    "dataset['Gender'].isnull().sum()"
   ]
  },
  {
   "cell_type": "code",
   "execution_count": 19,
   "id": "c0597df9-1e30-4240-8f7b-f077856bc5c2",
   "metadata": {},
   "outputs": [
    {
     "name": "stdout",
     "output_type": "stream",
     "text": [
      "<class 'pandas.core.frame.DataFrame'>\n",
      "RangeIndex: 6704 entries, 0 to 6703\n",
      "Data columns (total 9 columns):\n",
      " #   Column               Non-Null Count  Dtype  \n",
      "---  ------               --------------  -----  \n",
      " 0   Unnamed: 0           6704 non-null   int64  \n",
      " 1   Age                  6704 non-null   float64\n",
      " 2   Gender               6704 non-null   float64\n",
      " 3   Education Level      6701 non-null   object \n",
      " 4   Job Title            6702 non-null   object \n",
      " 5   Years of Experience  6704 non-null   float64\n",
      " 6   Salary               6704 non-null   float64\n",
      " 7   Country              6704 non-null   object \n",
      " 8   Race                 6704 non-null   object \n",
      "dtypes: float64(4), int64(1), object(4)\n",
      "memory usage: 471.5+ KB\n"
     ]
    }
   ],
   "source": [
    "dataset.info()"
   ]
  },
  {
   "cell_type": "markdown",
   "id": "e782eaad-3e3f-4196-baf3-fe4cb0852ff7",
   "metadata": {},
   "source": [
    "**Fill all Null values in the country column**"
   ]
  },
  {
   "cell_type": "code",
   "execution_count": 20,
   "id": "097eb86d-be47-4c4e-9916-323afdca0d05",
   "metadata": {},
   "outputs": [],
   "source": [
    "dataset['Country'].fillna(dataset['Country'].mode()[0], inplace=True)"
   ]
  },
  {
   "cell_type": "markdown",
   "id": "d6ae1da7-0b07-459b-aaf9-83672ed7c4fb",
   "metadata": {},
   "source": [
    "**Fill all Null values in the Race column**"
   ]
  },
  {
   "cell_type": "code",
   "execution_count": 21,
   "id": "56e610e8-a265-4a33-8d19-4cbf5af9eee7",
   "metadata": {},
   "outputs": [],
   "source": [
    "dataset['Race'].fillna(dataset['Race'].mode()[0], inplace=True)"
   ]
  },
  {
   "cell_type": "markdown",
   "id": "57bb54c6-f8f3-4443-8d62-8b954dd70d98",
   "metadata": {},
   "source": [
    "**Fill all Null values in the job title column**"
   ]
  },
  {
   "cell_type": "code",
   "execution_count": 22,
   "id": "e8edadf0-8699-479a-8682-6b58bf4e7ce8",
   "metadata": {},
   "outputs": [],
   "source": [
    "dataset['Job Title'].fillna(dataset['Job Title'].mode()[0], inplace=True)"
   ]
  },
  {
   "cell_type": "markdown",
   "id": "922d7600-6f19-48d6-90cb-b064aeb4be50",
   "metadata": {},
   "source": [
    "**Fill all Null values in the Education Level column**"
   ]
  },
  {
   "cell_type": "code",
   "execution_count": 23,
   "id": "d3f4d773-de81-4a77-befa-56d0da99b537",
   "metadata": {},
   "outputs": [],
   "source": [
    "dataset['Education Level'].fillna(dataset['Education Level'].mode()[0], inplace=True)"
   ]
  },
  {
   "cell_type": "markdown",
   "id": "8c2bad1b-64d6-4836-80df-09a8fbae6e55",
   "metadata": {},
   "source": [
    "**Check is the data have a null value or not**"
   ]
  },
  {
   "cell_type": "code",
   "execution_count": 24,
   "id": "f323d8b1-c08d-49fb-b14f-3d3c425cd4d4",
   "metadata": {},
   "outputs": [
    {
     "data": {
      "text/plain": [
       "Unnamed: 0             0\n",
       "Age                    0\n",
       "Gender                 0\n",
       "Education Level        0\n",
       "Job Title              0\n",
       "Years of Experience    0\n",
       "Salary                 0\n",
       "Country                0\n",
       "Race                   0\n",
       "dtype: int64"
      ]
     },
     "execution_count": 24,
     "metadata": {},
     "output_type": "execute_result"
    }
   ],
   "source": [
    "dataset.isnull().sum()"
   ]
  },
  {
   "cell_type": "markdown",
   "id": "37e545d4",
   "metadata": {},
   "source": [
    "## Analysis"
   ]
  },
  {
   "cell_type": "markdown",
   "id": "7bb5628d-022d-41dd-8097-b1dc0811903d",
   "metadata": {},
   "source": [
    "**what is the average of people age?** "
   ]
  },
  {
   "cell_type": "code",
   "execution_count": 25,
   "id": "cb158b15",
   "metadata": {},
   "outputs": [
    {
     "data": {
      "text/plain": [
       "33.61918257756563"
      ]
     },
     "execution_count": 25,
     "metadata": {},
     "output_type": "execute_result"
    }
   ],
   "source": [
    "dataset['Age'].mean()"
   ]
  },
  {
   "cell_type": "markdown",
   "id": "73026b16-d690-4b79-b249-2e488d5d9515",
   "metadata": {},
   "source": [
    "**What is the most gender involved in this data?**"
   ]
  },
  {
   "cell_type": "code",
   "execution_count": 26,
   "id": "d708c035",
   "metadata": {},
   "outputs": [
    {
     "data": {
      "text/plain": [
       "0.0    3690\n",
       "Name: Gender, dtype: int64"
      ]
     },
     "execution_count": 26,
     "metadata": {},
     "output_type": "execute_result"
    }
   ],
   "source": [
    "dataset['Gender'].value_counts().head(1)"
   ]
  },
  {
   "cell_type": "markdown",
   "id": "96913a79-4ac4-461f-a77d-6865c40639e6",
   "metadata": {},
   "source": [
    "**what is the most five jop tittle repeated in the data ?**"
   ]
  },
  {
   "cell_type": "code",
   "execution_count": 27,
   "id": "5557240c-a97f-4bb4-8ddd-a4aacaf6e5aa",
   "metadata": {},
   "outputs": [
    {
     "data": {
      "text/plain": [
       "Software Engineer            520\n",
       "Data Scientist               453\n",
       "Software Engineer Manager    376\n",
       "Data Analyst                 363\n",
       "Senior Project Engineer      318\n",
       "Name: Job Title, dtype: int64"
      ]
     },
     "execution_count": 27,
     "metadata": {},
     "output_type": "execute_result"
    }
   ],
   "source": [
    "dataset['Job Title'].value_counts().head(5)"
   ]
  },
  {
   "cell_type": "markdown",
   "id": "60a37c75-ed3d-466b-9e2f-0516cfe9235e",
   "metadata": {},
   "source": [
    "**what is jop title whose have a max salary ?**"
   ]
  },
  {
   "cell_type": "code",
   "execution_count": 28,
   "id": "58868aef-56d6-423a-b80d-9c1057acf2e4",
   "metadata": {},
   "outputs": [
    {
     "data": {
      "text/plain": [
       "30                           CEO\n",
       "83      Chief Technology Officer\n",
       "5001           Financial Manager\n",
       "Name: Job Title, dtype: object"
      ]
     },
     "execution_count": 28,
     "metadata": {},
     "output_type": "execute_result"
    }
   ],
   "source": [
    "max_salary = dataset[dataset['Salary'] == max(dataset['Salary']) ]\n",
    "max_salary['Job Title']"
   ]
  },
  {
   "cell_type": "markdown",
   "id": "defdcca3-f147-4e70-9b38-ddc3fd8f11a3",
   "metadata": {},
   "source": [
    "**what is the most country involves the data ?**"
   ]
  },
  {
   "cell_type": "code",
   "execution_count": 29,
   "id": "9dae6a2f-85e4-40e7-8428-12b14d9a9495",
   "metadata": {},
   "outputs": [
    {
     "data": {
      "text/plain": [
       "0    USA\n",
       "Name: Country, dtype: object"
      ]
     },
     "execution_count": 29,
     "metadata": {},
     "output_type": "execute_result"
    }
   ],
   "source": [
    "dataset['Country'].mode()"
   ]
  },
  {
   "cell_type": "markdown",
   "id": "cce520bb-0989-48e6-b011-6beeefad87a1",
   "metadata": {},
   "source": [
    "**Comparison between academic degree and monthly salary**"
   ]
  },
  {
   "cell_type": "code",
   "execution_count": 30,
   "id": "f3f3ee37-5813-41ce-834a-af1473119475",
   "metadata": {},
   "outputs": [],
   "source": [
    "dataset['Education Level'] = dataset['Education Level'].replace([\"Bachelor's\"], \"Bachelor's Degree\")\n",
    "dataset['Education Level'] = dataset['Education Level'].replace([\"PhD\"], \"phD\")\n",
    "dataset['Education Level'] = dataset['Education Level'].replace([\"Master's\"], \"Master's Degree\")"
   ]
  },
  {
   "cell_type": "code",
   "execution_count": 31,
   "id": "40ec90c2-fc38-457a-8b21-89e282791bb0",
   "metadata": {},
   "outputs": [
    {
     "data": {
      "text/plain": [
       "Education Level\n",
       "Bachelor's Degree     95110.861533\n",
       "High School           36706.694196\n",
       "Master's Degree      130103.936056\n",
       "phD                  165651.457999\n",
       "Name: Salary, dtype: float64"
      ]
     },
     "execution_count": 31,
     "metadata": {},
     "output_type": "execute_result"
    }
   ],
   "source": [
    "dataset.groupby('Education Level')['Salary'].mean()"
   ]
  },
  {
   "cell_type": "markdown",
   "id": "e5e79c7e",
   "metadata": {},
   "source": [
    "## Visualization"
   ]
  },
  {
   "cell_type": "code",
   "execution_count": 32,
   "id": "c2c6ece5",
   "metadata": {},
   "outputs": [
    {
     "data": {
      "text/plain": [
       "Text(0.5, 1.0, 'Salary Distribution by Gender')"
      ]
     },
     "execution_count": 32,
     "metadata": {},
     "output_type": "execute_result"
    },
    {
     "data": {
      "image/png": "[encoded data removed]",
      "text/plain": [
       "<Figure size 640x480 with 1 Axes>"
      ]
     },
     "metadata": {},
     "output_type": "display_data"
    }
   ],
   "source": [
    "sns.boxplot(data=dataset, x='Gender', y='Salary')\n",
    "plt.title('Salary Distribution by Gender')"
   ]
  },
  {
   "cell_type": "code",
   "execution_count": 33,
   "id": "8690db17",
   "metadata": {},
   "outputs": [
    {
     "data": {
      "text/plain": [
       "Text(0.5, 1.0, 'Salary Distribution by Education Level')"
      ]
     },
     "execution_count": 33,
     "metadata": {},
     "output_type": "execute_result"
    },
    {
     "data": {
      "image/png": "[encoded data removed]",
      "text/plain": [
       "<Figure size 640x480 with 1 Axes>"
      ]
     },
     "metadata": {},
     "output_type": "display_data"
    }
   ],
   "source": [
    "sns.boxplot(data=dataset, x='Education Level', y='Salary')\n",
    "plt.xticks(rotation=90)\n",
    "plt.title('Salary Distribution by Education Level')"
   ]
  },
  {
   "cell_type": "code",
   "execution_count": 34,
   "id": "516d27d5",
   "metadata": {},
   "outputs": [
    {
     "data": {
      "text/plain": [
       "Text(0.5, 1.0, 'Correlation Matrix for Years of Experience, Age, and Salary')"
      ]
     },
     "execution_count": 34,
     "metadata": {},
     "output_type": "execute_result"
    },
    {
     "data": {
      "image/png": "[encoded data removed]",
      "text/plain": [
       "<Figure size 640x480 with 2 Axes>"
      ]
     },
     "metadata": {},
     "output_type": "display_data"
    }
   ],
   "source": [
    "correlation_matrix = dataset[['Years of Experience', 'Age', 'Salary']].corr()\n",
    "sns.heatmap(correlation_matrix, annot=True, cmap='coolwarm', center=0)\n",
    "plt.title('Correlation Matrix for Years of Experience, Age, and Salary')"
   ]
  },
  {
   "cell_type": "code",
   "execution_count": 35,
   "id": "d6c8ae04",
   "metadata": {},
   "outputs": [
    {
     "data": {
      "text/plain": [
       "Text(0, 0.5, 'Average Salary')"
      ]
     },
     "execution_count": 35,
     "metadata": {},
     "output_type": "execute_result"
    },
    {
     "data": {
      "image/png": "[encoded data removed]",
      "text/plain": [
       "<Figure size 640x480 with 1 Axes>"
      ]
     },
     "metadata": {},
     "output_type": "display_data"
    }
   ],
   "source": [
    "average_salary_by_education = dataset.groupby('Education Level')['Salary'].mean().sort_values(ascending=False)\n",
    "sns.barplot(x=average_salary_by_education.index, y=average_salary_by_education.values, palette=\"Blues_d\")\n",
    "plt.title('Average Salary by Education Level')\n",
    "plt.xlabel('Education Level')\n",
    "plt.ylabel('Average Salary')"
   ]
  },
  {
   "cell_type": "markdown",
   "id": "149330dd",
   "metadata": {},
   "source": [
    "## Model"
   ]
  },
  {
   "cell_type": "code",
   "execution_count": 37,
   "id": "5f05a5df-08c8-42c0-8872-42fe0ad0aabd",
   "metadata": {},
   "outputs": [
    {
     "data": {
      "text/html": [
       "<div>\n",
       "<style scoped>\n",
       "    .dataframe tbody tr th:only-of-type {\n",
       "        vertical-align: middle;\n",
       "    }\n",
       "\n",
       "    .dataframe tbody tr th {\n",
       "        vertical-align: top;\n",
       "    }\n",
       "\n",
       "    .dataframe thead th {\n",
       "        text-align: right;\n",
       "    }\n",
       "</style>\n",
       "<table border=\"1\" class=\"dataframe\">\n",
       "  <thead>\n",
       "    <tr style=\"text-align: right;\">\n",
       "      <th></th>\n",
       "      <th>Unnamed: 0</th>\n",
       "      <th>Age</th>\n",
       "      <th>Gender</th>\n",
       "      <th>Education Level</th>\n",
       "      <th>Job Title</th>\n",
       "      <th>Years of Experience</th>\n",
       "      <th>Salary</th>\n",
       "      <th>Country</th>\n",
       "      <th>Race</th>\n",
       "    </tr>\n",
       "  </thead>\n",
       "  <tbody>\n",
       "    <tr>\n",
       "      <th>0</th>\n",
       "      <td>0</td>\n",
       "      <td>32.0</td>\n",
       "      <td>0.0</td>\n",
       "      <td>Bachelor's Degree</td>\n",
       "      <td>Software Engineer</td>\n",
       "      <td>5.0</td>\n",
       "      <td>90000.0</td>\n",
       "      <td>UK</td>\n",
       "      <td>White</td>\n",
       "    </tr>\n",
       "    <tr>\n",
       "      <th>1</th>\n",
       "      <td>1</td>\n",
       "      <td>28.0</td>\n",
       "      <td>1.0</td>\n",
       "      <td>Master's Degree</td>\n",
       "      <td>Data Analyst</td>\n",
       "      <td>3.0</td>\n",
       "      <td>65000.0</td>\n",
       "      <td>USA</td>\n",
       "      <td>Hispanic</td>\n",
       "    </tr>\n",
       "    <tr>\n",
       "      <th>2</th>\n",
       "      <td>2</td>\n",
       "      <td>45.0</td>\n",
       "      <td>0.0</td>\n",
       "      <td>phD</td>\n",
       "      <td>Senior Manager</td>\n",
       "      <td>15.0</td>\n",
       "      <td>150000.0</td>\n",
       "      <td>Canada</td>\n",
       "      <td>White</td>\n",
       "    </tr>\n",
       "    <tr>\n",
       "      <th>3</th>\n",
       "      <td>3</td>\n",
       "      <td>36.0</td>\n",
       "      <td>1.0</td>\n",
       "      <td>Bachelor's Degree</td>\n",
       "      <td>Sales Associate</td>\n",
       "      <td>7.0</td>\n",
       "      <td>60000.0</td>\n",
       "      <td>USA</td>\n",
       "      <td>Hispanic</td>\n",
       "    </tr>\n",
       "    <tr>\n",
       "      <th>4</th>\n",
       "      <td>4</td>\n",
       "      <td>52.0</td>\n",
       "      <td>0.0</td>\n",
       "      <td>Master's Degree</td>\n",
       "      <td>Director</td>\n",
       "      <td>20.0</td>\n",
       "      <td>200000.0</td>\n",
       "      <td>USA</td>\n",
       "      <td>Asian</td>\n",
       "    </tr>\n",
       "  </tbody>\n",
       "</table>\n",
       "</div>"
      ],
      "text/plain": [
       "   Unnamed: 0   Age  Gender    Education Level          Job Title  \\\n",
       "0           0  32.0     0.0  Bachelor's Degree  Software Engineer   \n",
       "1           1  28.0     1.0    Master's Degree       Data Analyst   \n",
       "2           2  45.0     0.0                phD     Senior Manager   \n",
       "3           3  36.0     1.0  Bachelor's Degree    Sales Associate   \n",
       "4           4  52.0     0.0    Master's Degree           Director   \n",
       "\n",
       "   Years of Experience    Salary Country      Race  \n",
       "0                  5.0   90000.0      UK     White  \n",
       "1                  3.0   65000.0     USA  Hispanic  \n",
       "2                 15.0  150000.0  Canada     White  \n",
       "3                  7.0   60000.0     USA  Hispanic  \n",
       "4                 20.0  200000.0     USA     Asian  "
      ]
     },
     "execution_count": 37,
     "metadata": {},
     "output_type": "execute_result"
    }
   ],
   "source": [
    "dataset.head()"
   ]
  },
  {
   "cell_type": "code",
   "execution_count": 39,
   "id": "ba471186-c16b-4582-a241-d32df5fbbd86",
   "metadata": {},
   "outputs": [
    {
     "data": {
      "text/plain": [
       "USA          1360\n",
       "China        1343\n",
       "UK           1337\n",
       "Australia    1336\n",
       "Canada       1328\n",
       "Name: Country, dtype: int64"
      ]
     },
     "execution_count": 39,
     "metadata": {},
     "output_type": "execute_result"
    }
   ],
   "source": [
    "dataset['Country'].value_counts()"
   ]
  },
  {
   "cell_type": "code",
   "execution_count": 40,
   "id": "f14ecfdf-d2dc-47f2-b595-368aef3d3965",
   "metadata": {},
   "outputs": [
    {
     "name": "stdout",
     "output_type": "stream",
     "text": [
      "int64\n"
     ]
    }
   ],
   "source": [
    "dataset['Country'] = dataset['Country'].replace(['USA'],'0')\n",
    "dataset['Country'] = dataset['Country'].replace(['China'],'1')\n",
    "dataset['Country'] = dataset['Country'].replace(['UK'],'2')\n",
    "dataset['Country'] = dataset['Country'].replace(['Australia'],'3')\n",
    "dataset['Country'] = dataset['Country'].replace(['Canada'],'4')\n",
    "\n",
    "\n",
    "dataset['Country'] = pd.to_numeric(dataset['Country'], errors = 'coerce')\n",
    "print(dataset['Country'].dtypes)"
   ]
  },
  {
   "cell_type": "code",
   "execution_count": 41,
   "id": "8b720e05-56e9-472f-ae7c-dd3257abbcc4",
   "metadata": {},
   "outputs": [
    {
     "data": {
      "text/plain": [
       "Bachelor's Degree    3026\n",
       "Master's Degree      1861\n",
       "phD                  1369\n",
       "High School           448\n",
       "Name: Education Level, dtype: int64"
      ]
     },
     "execution_count": 41,
     "metadata": {},
     "output_type": "execute_result"
    }
   ],
   "source": [
    "dataset['Education Level'].value_counts()"
   ]
  },
  {
   "cell_type": "code",
   "execution_count": 42,
   "id": "586fbdcb-df6a-4e35-bd0d-ef36811fe8b8",
   "metadata": {},
   "outputs": [
    {
     "name": "stdout",
     "output_type": "stream",
     "text": [
      "int64\n"
     ]
    }
   ],
   "source": [
    "dataset['Education Level'] = dataset['Education Level'].replace([\"Bachelor's Degree\"],0)\n",
    "dataset['Education Level'] = dataset['Education Level'].replace([\"Master's Degree\"],1)\n",
    "dataset['Education Level'] = dataset['Education Level'].replace([\"phD\"],2)\n",
    "dataset['Education Level'] = dataset['Education Level'].replace([\"High School\"],3)\n",
    "\n",
    "\n",
    "dataset['Education Level'] = pd.to_numeric(dataset['Education Level'] , errors='coerce')\n",
    "print(dataset['Education Level'].dtypes)"
   ]
  },
  {
   "cell_type": "code",
   "execution_count": 43,
   "id": "da253736-f817-4b58-a311-c8e390ba32c8",
   "metadata": {},
   "outputs": [],
   "source": [
    "x = dataset[['Gender','Age','Education Level','Country','Years of Experience']]\n",
    "y = dataset['Salary']"
   ]
  },
  {
   "cell_type": "code",
   "execution_count": 63,
   "id": "24c51eb0",
   "metadata": {},
   "outputs": [],
   "source": [
    "from sklearn.metrics import r2_score\n",
    "from sklearn.metrics import mean_squared_error\n",
    "from sklearn.model_selection import train_test_split\n",
    "from sklearn.tree import DecisionTreeRegressor"
   ]
  },
  {
   "cell_type": "code",
   "execution_count": 64,
   "id": "80e10406",
   "metadata": {},
   "outputs": [],
   "source": [
    "x_train , x_temp , y_train , y_temp = train_test_split( x , y , test_size =0.2 ,random_state = 2 )\n",
    "x_valid , x_test ,y_valid ,y_test = train_test_split(x_train , y_train , test_size = 0.2 ,random_state= 2)"
   ]
  },
  {
   "cell_type": "code",
   "execution_count": 65,
   "id": "2335780d",
   "metadata": {},
   "outputs": [
    {
     "data": {
      "text/plain": [
       "DecisionTreeRegressor(max_depth=15)"
      ]
     },
     "execution_count": 65,
     "metadata": {},
     "output_type": "execute_result"
    }
   ],
   "source": [
    "model = DecisionTreeRegressor(max_depth=15)\n",
    "model.fit(x_train,y_train)"
   ]
  },
  {
   "cell_type": "code",
   "execution_count": 66,
   "id": "8dcb2069",
   "metadata": {},
   "outputs": [
    {
     "name": "stdout",
     "output_type": "stream",
     "text": [
      "r2_score = 0.9558656917407287\n",
      "Test Loss : 119799614.5001\n",
      "MSE =  119799614.50006555\n",
      "RMSE =  10945.301023730026\n"
     ]
    }
   ],
   "source": [
    "test_pred = model.predict(x_test)\n",
    "\n",
    "r_scoure = r2_score(y_test,test_pred)\n",
    "MSE = mean_squared_error(y_test,test_pred)\n",
    "\n",
    "RMSE = np.sqrt(mean_squared_error(y_test,test_pred))\n",
    "\n",
    "test_loss = mean_squared_error(y_test , test_pred)\n",
    "\n",
    "print(\"r2_score =\",r_scoure)\n",
    "print(f\"Test Loss : {test_loss:.4f}\")\n",
    "print('MSE = ',MSE)\n",
    "print('RMSE = ',RMSE)\n",
    "\n"
   ]
  },
  {
   "cell_type": "code",
   "execution_count": null,
   "id": "228ba479",
   "metadata": {},
   "outputs": [],
   "source": []
  }
 ],
 "metadata": {
  "kernelspec": {
   "display_name": "Python 3 (ipykernel)",
   "language": "python",
   "name": "python3"
  },
  "language_info": {
   "codemirror_mode": {
    "name": "ipython",
    "version": 3
   },
   "file_extension": ".py",
   "mimetype": "text/x-python",
   "name": "python",
   "nbconvert_exporter": "python",
   "pygments_lexer": "ipython3",
   "version": "3.9.13"
  }
 },
 "nbformat": 4,
 "nbformat_minor": 5
}
